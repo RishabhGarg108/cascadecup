{
 "cells": [
  {
   "cell_type": "code",
   "execution_count": 1,
   "metadata": {},
   "outputs": [],
   "source": [
    "import numpy as np\n",
    "import pandas as pd\n",
    "import matplotlib.pyplot as plt\n",
    "%matplotlib inline\n",
    "import utils\n",
    "\n",
    "from sklearn.preprocessing import MinMaxScaler\n",
    "from sklearn.model_selection import StratifiedShuffleSplit\n",
    "from sklearn.linear_model import LogisticRegression\n",
    "from sklearn.metrics import plot_confusion_matrix, f1_score\n"
   ]
  },
  {
   "cell_type": "code",
   "execution_count": 2,
   "metadata": {},
   "outputs": [],
   "source": [
    "def split(X, y, test_size=0.2):\n",
    "    X = X.to_numpy()\n",
    "    y = y.to_numpy()\n",
    "    sss = StratifiedShuffleSplit(test_size = test_size, random_state=0)\n",
    "    for train_index, test_index in sss.split(X, y):\n",
    "        X_train, X_test = X[train_index], X[test_index]\n",
    "        y_train, y_test = y[train_index], y[test_index]\n",
    "        \n",
    "    return (X_train, y_train, X_test, y_test)"
   ]
  },
  {
   "cell_type": "code",
   "execution_count": 3,
   "metadata": {},
   "outputs": [],
   "source": [
    "def PlotConfusionMatrix(classifier, X, y, normalize='true', axes=None):\n",
    "    '''\n",
    "    Plots the confusion matrix of X based on predictions\n",
    "    from classifier.\n",
    "    \n",
    "    @param classifier Classifier for doing predictions.\n",
    "    @param X Input data.\n",
    "    @param y Output labels.\n",
    "    @param normalize Specifies the mode of normalization.\n",
    "        It takes values 'true', 'pred' and 'all'.\n",
    "    '''\n",
    "    plot = plot_confusion_matrix(classifier, X, y, normalize = normalize,\n",
    "                                 display_labels=CLASS_NAMES, cmap=plt.cm.Blues, ax=axes)"
   ]
  },
  {
   "cell_type": "code",
   "execution_count": 4,
   "metadata": {},
   "outputs": [],
   "source": [
    "def TrainingPipeline(model, X_train, y_train, X_val, y_val):\n",
    "    \n",
    "    # A dictionary to store the history of the trained model.\n",
    "    history = {}\n",
    "    \n",
    "    # Training and Predicting.\n",
    "    model.fit(X_train, y_train)\n",
    "    y_train_hat = model.predict(X_train)\n",
    "    y_val_hat = model.predict(X_val)\n",
    "    history[\"model\"] = model\n",
    "    history[\"y_train_hat\"] = y_train_hat\n",
    "    history[\"y_val_hat\"] = y_val_hat\n",
    "    \n",
    "    # Plotting confusion matrices.\n",
    "    fig, axes = plt.subplots(1, 2, figsize=(13,5))\n",
    "    PlotConfusionMatrix(model, X_train, y_train, axes=axes[0])\n",
    "    PlotConfusionMatrix(model, X_val, y_val, axes=axes[1])\n",
    "    axes[0].set_title(\"Confustion matrix of Train Data\")\n",
    "    axes[1].set_title(\"Confustion matrix of Test Data\")\n",
    "    \n",
    "    # Calculating the scores.\n",
    "    train_score = utils.Score(f1_score, y_train, y_train_hat, average=\"weighted\").round(4)\n",
    "    val_score = utils.Score(f1_score, y_val, y_val_hat, average=\"weighted\").round(4)\n",
    "    history[\"train_score\"] = train_score\n",
    "    history[\"val_score\"] = val_score\n",
    "    \n",
    "    print(\"Training Score is\", train_score)\n",
    "    print(\"Validation Score is\", val_score)\n",
    "    return history"
   ]
  },
  {
   "cell_type": "code",
   "execution_count": 5,
   "metadata": {},
   "outputs": [],
   "source": [
    "train = pd.read_csv(\"train_age_dataset.csv\")\n",
    "test = pd.read_csv(\"test_age_dataset.csv\")"
   ]
  },
  {
   "cell_type": "code",
   "execution_count": 6,
   "metadata": {},
   "outputs": [],
   "source": [
    "CLASS_NAMES = list(train[\"age_group\"].unique())"
   ]
  },
  {
   "cell_type": "code",
   "execution_count": 7,
   "metadata": {},
   "outputs": [],
   "source": [
    "drop = [\"Unnamed: 0\", \"userId\"]\n",
    "train = utils.DropFeatures(drop, train)\n",
    "test = utils.DropFeatures(drop, test)"
   ]
  },
  {
   "cell_type": "code",
   "execution_count": 8,
   "metadata": {},
   "outputs": [],
   "source": [
    "X, y = utils.SplitLabels(train, \"age_group\")\n",
    "X_train, y_train, X_val, y_val = split(X, y)"
   ]
  },
  {
   "cell_type": "code",
   "execution_count": 9,
   "metadata": {},
   "outputs": [],
   "source": [
    "scaler = MinMaxScaler().fit(X_train)\n",
    "X_train = scaler.transform(X_train)\n",
    "X_val = scaler.transform(X_val)"
   ]
  },
  {
   "cell_type": "code",
   "execution_count": 11,
   "metadata": {},
   "outputs": [],
   "source": [
    "A=[]\n",
    "from sklearn.ensemble import GradientBoostingClassifier\n",
    "for i in range(1):\n",
    "    model = GradientBoostingClassifier(n_estimators=100,max_depth=12,min_samples_split=2500,max_features =\"sqrt\")\n",
    "    model.fit(X_train,y_train)\n",
    "    test_pred=model.predict(X_val)\n",
    "    f1_score_=f1_score(test_pred,y_val,average=\"weighted\")\n",
    "    A.append(f1_score_)\n"
   ]
  },
  {
   "cell_type": "code",
   "execution_count": 12,
   "metadata": {},
   "outputs": [
    {
     "data": {
      "text/plain": [
       "[0.7424824705120161]"
      ]
     },
     "execution_count": 12,
     "metadata": {},
     "output_type": "execute_result"
    }
   ],
   "source": [
    "A"
   ]
  },
  {
   "cell_type": "code",
   "execution_count": 14,
   "metadata": {},
   "outputs": [],
   "source": [
    "X_test=scaler.transform(test)\n",
    "test_pred=model.predict(X_test)\n",
    "test_pred = pd.Series(test_pred, name=\"prediction\")\n",
    "test_pred.to_csv(\"baseline.csv\", index=False)"
   ]
  },
  {
   "cell_type": "code",
   "execution_count": null,
   "metadata": {},
   "outputs": [],
   "source": []
  }
 ],
 "metadata": {
  "kernelspec": {
   "display_name": "Python 3",
   "language": "python",
   "name": "python3"
  },
  "language_info": {
   "codemirror_mode": {
    "name": "ipython",
    "version": 3
   },
   "file_extension": ".py",
   "mimetype": "text/x-python",
   "name": "python",
   "nbconvert_exporter": "python",
   "pygments_lexer": "ipython3",
   "version": "3.8.5"
  }
 },
 "nbformat": 4,
 "nbformat_minor": 4
}
