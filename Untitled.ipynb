{
 "cells": [
  {
   "cell_type": "code",
   "execution_count": 1,
   "metadata": {},
   "outputs": [],
   "source": [
    "import pandas as pd\n",
    "import numpy as np\n",
    "from sklearn.tree import DecisionTreeClassifier\n",
    "from sklearn.model_selection import train_test_split\n",
    "from sklearn.metrics import confusion_matrix\n",
    "from sklearn.metrics import accuracy_score\n",
    "from sklearn.metrics import f1_score\n",
    "import matplotlib.pyplot as plt"
   ]
  },
  {
   "cell_type": "code",
   "execution_count": 2,
   "metadata": {},
   "outputs": [],
   "source": [
    "train=pd.read_csv(\"train_age_dataset.csv\")\n",
    "test=pd.read_csv(\"test_age_dataset.csv\")"
   ]
  },
  {
   "cell_type": "code",
   "execution_count": 3,
   "metadata": {},
   "outputs": [],
   "source": [
    "train.drop(columns=['Unnamed: 0','userId',],inplace=True)\n",
    "test.drop(columns=['Unnamed: 0','userId'],inplace=True)"
   ]
  },
  {
   "cell_type": "code",
   "execution_count": 4,
   "metadata": {},
   "outputs": [
    {
     "name": "stdout",
     "output_type": "stream",
     "text": [
      "tier -0.07248094375012565\n",
      "gender -0.038184281029375766\n",
      "following_rate 0.02319470385574837\n",
      "followers_avg_age 0.2851477136446661\n",
      "following_avg_age 0.2855850213776204\n",
      "max_repetitive_punc 0.15055599167079559\n",
      "num_of_hashtags_per_action 0.004520208359507769\n",
      "emoji_count_per_action 0.0033566649435254215\n",
      "punctuations_per_action 0.018556995068467984\n",
      "number_of_words_per_action 0.1569341476101998\n",
      "avgCompletion 0.058458615128581505\n",
      "avgTimeSpent 0.0015241614624699681\n",
      "avgDuration 0.04558255404690603\n",
      "avgComments 0.038968490269562284\n",
      "creations 0.09032917773682396\n",
      "content_views 0.16368159982766237\n",
      "num_of_comments 0.06341993605472468\n",
      "weekends_trails_watched_per_day 0.15280663049373486\n",
      "weekdays_trails_watched_per_day 0.16951883319563935\n",
      "slot1_trails_watched_per_day 0.10482694157156816\n",
      "slot2_trails_watched_per_day 0.12501532528839726\n",
      "slot3_trails_watched_per_day 0.14266701088389824\n",
      "slot4_trails_watched_per_day 0.1543910434947335\n",
      "avgt2 0.14510539954223578\n",
      "age_group 0.9999999999999998\n"
     ]
    }
   ],
   "source": [
    "for i in train.columns:\n",
    "    print(i,train[i].corr(train['age_group']))"
   ]
  },
  {
   "cell_type": "code",
   "execution_count": 5,
   "metadata": {},
   "outputs": [],
   "source": [
    "train.drop(columns=['num_of_hashtags_per_action','emoji_count_per_action','num_of_comments','punctuations_per_action','following_rate','followers_avg_age','max_repetitive_punc'],inplace=True)"
   ]
  },
  {
   "cell_type": "code",
   "execution_count": 6,
   "metadata": {
    "scrolled": true
   },
   "outputs": [],
   "source": [
    "features=np.array(train.columns)\n",
    "features=np.delete(features,-1)"
   ]
  },
  {
   "cell_type": "code",
   "execution_count": 7,
   "metadata": {},
   "outputs": [],
   "source": [
    "X=train[features]\n",
    "y=train['age_group']\n",
    "# X_test=test[features]\n",
    "# X_train=X\n",
    "# y_train=y\n",
    "X_train, X_test, y_train, y_test = train_test_split(X, y, test_size=0.3, random_state=42)"
   ]
  },
  {
   "cell_type": "code",
   "execution_count": null,
   "metadata": {},
   "outputs": [],
   "source": []
  },
  {
   "cell_type": "code",
   "execution_count": 8,
   "metadata": {},
   "outputs": [
    {
     "data": {
      "text/plain": [
       "0.9999999999999999"
      ]
     },
     "execution_count": 8,
     "metadata": {},
     "output_type": "execute_result"
    }
   ],
   "source": [
    "dtree_model = DecisionTreeClassifier(max_depth = 12,criterion=\"entropy\",splitter=\"best\",random_state=0).fit(X_train, y_train) \n",
    "dtree_predictions = dtree_model.predict(X_test)\n",
    "test_pred=pd.Series(dtree_predictions,name='prediction')\n",
    "test_pred.to_csv('decision_tree.csv',index=False)\n",
    "sum(dtree_model.feature_importances_)"
   ]
  },
  {
   "cell_type": "code",
   "execution_count": 9,
   "metadata": {},
   "outputs": [
    {
     "data": {
      "text/plain": [
       "array([5.39215408e-04, 1.17228362e-03, 3.47621595e-03, 5.98678051e-03,\n",
       "       2.99344915e-03, 5.65269279e-03, 6.24602444e-03, 5.29921439e-04,\n",
       "       8.81429850e-01, 1.55149157e-02, 1.52943589e-02, 3.07138376e-02,\n",
       "       2.52818982e-03, 5.07902808e-03, 4.32912529e-03, 1.04880083e-02,\n",
       "       8.02610262e-03])"
      ]
     },
     "execution_count": 9,
     "metadata": {},
     "output_type": "execute_result"
    }
   ],
   "source": [
    "dtree_model.feature_importances_"
   ]
  },
  {
   "cell_type": "code",
   "execution_count": 10,
   "metadata": {},
   "outputs": [
    {
     "data": {
      "text/plain": [
       "<BarContainer object of 17 artists>"
      ]
     },
     "execution_count": 10,
     "metadata": {},
     "output_type": "execute_result"
    },
    {
     "data": {
      "image/png": "[encoded data removed]",
      "text/plain": [
       "<Figure size 432x288 with 1 Axes>"
      ]
     },
     "metadata": {
      "needs_background": "light"
     },
     "output_type": "display_data"
    }
   ],
   "source": [
    "plt.bar(features,dtree_model.feature_importances_)"
   ]
  },
  {
   "cell_type": "code",
   "execution_count": 11,
   "metadata": {},
   "outputs": [
    {
     "data": {
      "text/plain": [
       "0.7225712299938974"
      ]
     },
     "execution_count": 11,
     "metadata": {},
     "output_type": "execute_result"
    }
   ],
   "source": [
    "f1_score(y_test, dtree_predictions,average='weighted')"
   ]
  },
  {
   "cell_type": "code",
   "execution_count": null,
   "metadata": {},
   "outputs": [],
   "source": []
  }
 ],
 "metadata": {
  "kernelspec": {
   "display_name": "Python 3",
   "language": "python",
   "name": "python3"
  },
  "language_info": {
   "codemirror_mode": {
    "name": "ipython",
    "version": 3
   },
   "file_extension": ".py",
   "mimetype": "text/x-python",
   "name": "python",
   "nbconvert_exporter": "python",
   "pygments_lexer": "ipython3",
   "version": "3.8.5"
  }
 },
 "nbformat": 4,
 "nbformat_minor": 4
}
